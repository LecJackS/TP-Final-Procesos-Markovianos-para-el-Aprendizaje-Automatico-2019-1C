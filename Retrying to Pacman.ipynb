{
 "cells": [
  {
   "cell_type": "markdown",
   "metadata": {},
   "source": [
    "# Retrying to Pac-man\n",
    "\n",
    "Esta notebook es una continuación del trabajo final de *Procesos Markovianos para el Aprendizaje Automatico (2019)*.\n",
    "\n",
    "> * TP Final - Procesos Markovianos para el Aprendizaje Automatico - 2019 1C\n",
    ">\n",
    "> https://github.com/LecJackS/TP-Final-Procesos-Markovianos-para-el-Aprendizaje-Automatico-2019-1C-w.o.heavy-history-"
   ]
  },
  {
   "cell_type": "markdown",
   "metadata": {
    "toc": true
   },
   "source": [
    "<h1>Table of Contents<span class=\"tocSkip\"></span></h1>\n",
    "<div class=\"toc\"><ul class=\"toc-item\"><li><span><a href=\"#Retrying-to-Pac-man\" data-toc-modified-id=\"Retrying-to-Pac-man-1\"><span class=\"toc-item-num\">1&nbsp;&nbsp;</span>Retrying to Pac-man</a></span></li><li><span><a href=\"#Statistics\" data-toc-modified-id=\"Statistics-2\"><span class=\"toc-item-num\">2&nbsp;&nbsp;</span>Statistics</a></span><ul class=\"toc-item\"><li><ul class=\"toc-item\"><li><span><a href=\"#Experimento-&quot;learning-rate&quot;\" data-toc-modified-id=\"Experimento-&quot;learning-rate&quot;-2.0.1\"><span class=\"toc-item-num\">2.0.1&nbsp;&nbsp;</span>Experimento \"<em>learning-rate</em>\"</a></span></li><li><span><a href=\"#Experimento-&quot;número-de-procesos&quot;\" data-toc-modified-id=\"Experimento-&quot;número-de-procesos&quot;-2.0.2\"><span class=\"toc-item-num\">2.0.2&nbsp;&nbsp;</span>Experimento \"<em>número de procesos</em>\"</a></span></li></ul></li></ul></li><li><span><a href=\"#Rewards-and-Expected-Reward-Count\" data-toc-modified-id=\"Rewards-and-Expected-Reward-Count-3\"><span class=\"toc-item-num\">3&nbsp;&nbsp;</span>Rewards and <em>Expected Reward Count</em></a></span><ul class=\"toc-item\"><li><ul class=\"toc-item\"><li><span><a href=\"#Sobre-el-código\" data-toc-modified-id=\"Sobre-el-código-3.0.1\"><span class=\"toc-item-num\">3.0.1&nbsp;&nbsp;</span>Sobre el código</a></span></li></ul></li></ul></li><li><span><a href=\"#Optimizer\" data-toc-modified-id=\"Optimizer-4\"><span class=\"toc-item-num\">4&nbsp;&nbsp;</span>Optimizer</a></span></li><li><span><a href=\"#Entrada\" data-toc-modified-id=\"Entrada-5\"><span class=\"toc-item-num\">5&nbsp;&nbsp;</span>Entrada</a></span></li><li><span><a href=\"#Skip-Frame\" data-toc-modified-id=\"Skip-Frame-6\"><span class=\"toc-item-num\">6&nbsp;&nbsp;</span>Skip Frame</a></span></li><li><span><a href=\"#LSTM-+-Reciclaje-+-Finetunning\" data-toc-modified-id=\"LSTM-+-Reciclaje-+-Finetunning-7\"><span class=\"toc-item-num\">7&nbsp;&nbsp;</span>LSTM + Reciclaje + <em>Finetunning</em></a></span></li><li><span><a href=\"#Clamp-Critic-(Value-Function)\" data-toc-modified-id=\"Clamp-Critic-(Value-Function)-8\"><span class=\"toc-item-num\">8&nbsp;&nbsp;</span>Clamp Critic (Value Function)</a></span><ul class=\"toc-item\"><li><span><a href=\"#Cotas-dinámicas\" data-toc-modified-id=\"Cotas-dinámicas-8.1\"><span class=\"toc-item-num\">8.1&nbsp;&nbsp;</span>Cotas dinámicas</a></span><ul class=\"toc-item\"><li><ul class=\"toc-item\"><li><span><a href=\"#Problema:\" data-toc-modified-id=\"Problema:-8.1.0.1\"><span class=\"toc-item-num\">8.1.0.1&nbsp;&nbsp;</span>Problema:</a></span></li><li><span><a href=\"#Solución:\" data-toc-modified-id=\"Solución:-8.1.0.2\"><span class=\"toc-item-num\">8.1.0.2&nbsp;&nbsp;</span>Solución:</a></span></li></ul></li><li><span><a href=\"#Normalizando-recompensas\" data-toc-modified-id=\"Normalizando-recompensas-8.1.1\"><span class=\"toc-item-num\">8.1.1&nbsp;&nbsp;</span>Normalizando recompensas</a></span></li></ul></li></ul></li><li><span><a href=\"#Plots\" data-toc-modified-id=\"Plots-9\"><span class=\"toc-item-num\">9&nbsp;&nbsp;</span>Plots</a></span><ul class=\"toc-item\"><li><span><a href=\"#Clamp-on-loss\" data-toc-modified-id=\"Clamp-on-loss-9.1\"><span class=\"toc-item-num\">9.1&nbsp;&nbsp;</span>Clamp on loss</a></span></li><li><span><a href=\"#Clamp-on-Critic-value\" data-toc-modified-id=\"Clamp-on-Critic-value-9.2\"><span class=\"toc-item-num\">9.2&nbsp;&nbsp;</span>Clamp on Critic value</a></span></li><li><span><a href=\"#Tanh-+-Normalization\" data-toc-modified-id=\"Tanh-+-Normalization-9.3\"><span class=\"toc-item-num\">9.3&nbsp;&nbsp;</span>Tanh + Normalization</a></span></li><li><span><a href=\"#Tanh-+-Normalization-w/-maxGt-decay\" data-toc-modified-id=\"Tanh-+-Normalization-w/-maxGt-decay-9.4\"><span class=\"toc-item-num\">9.4&nbsp;&nbsp;</span>Tanh + Normalization w/ maxGt decay</a></span></li></ul></li><li><span><a href=\"#Resultados\" data-toc-modified-id=\"Resultados-10\"><span class=\"toc-item-num\">10&nbsp;&nbsp;</span>Resultados</a></span></li><li><span><a href=\"#Código\" data-toc-modified-id=\"Código-11\"><span class=\"toc-item-num\">11&nbsp;&nbsp;</span>Código</a></span><ul class=\"toc-item\"><li><span><a href=\"#Test\" data-toc-modified-id=\"Test-11.1\"><span class=\"toc-item-num\">11.1&nbsp;&nbsp;</span>Test</a></span><ul class=\"toc-item\"><li><ul class=\"toc-item\"><li><span><a href=\"#Video:\" data-toc-modified-id=\"Video:-11.1.0.1\"><span class=\"toc-item-num\">11.1.0.1&nbsp;&nbsp;</span>Video:</a></span></li></ul></li></ul></li><li><span><a href=\"#Train\" data-toc-modified-id=\"Train-11.2\"><span class=\"toc-item-num\">11.2&nbsp;&nbsp;</span>Train</a></span></li></ul></li><li><span><a href=\"#Berkeley-Pac-man\" data-toc-modified-id=\"Berkeley-Pac-man-12\"><span class=\"toc-item-num\">12&nbsp;&nbsp;</span>Berkeley Pac-man</a></span><ul class=\"toc-item\"><li><ul class=\"toc-item\"><li><span><a href=\"#Entrada-a-la-red-neuronal\" data-toc-modified-id=\"Entrada-a-la-red-neuronal-12.0.1\"><span class=\"toc-item-num\">12.0.1&nbsp;&nbsp;</span>Entrada a la red neuronal</a></span></li></ul></li></ul></li><li><span><a href=\"#Código\" data-toc-modified-id=\"Código-13\"><span class=\"toc-item-num\">13&nbsp;&nbsp;</span>Código</a></span><ul class=\"toc-item\"><li><span><a href=\"#Test\" data-toc-modified-id=\"Test-13.1\"><span class=\"toc-item-num\">13.1&nbsp;&nbsp;</span>Test</a></span></li></ul></li><li><span><a href=\"#Conclusión\" data-toc-modified-id=\"Conclusión-14\"><span class=\"toc-item-num\">14&nbsp;&nbsp;</span>Conclusión</a></span></li></ul></div>"
   ]
  },
  {
   "cell_type": "markdown",
   "metadata": {},
   "source": [
    "En los meses pasados, luego de la entrega, seguí realizando pruebas para asegurarme que el algoritmo funcione (algo que **no** fue claramente demostrado en la entrega anterior).\n",
    "\n",
    "Para eso se utilizó  [un nuevo environment de pacman (Ms Pac-man)](https://gym.openai.com/envs/MsPacman-v0/) que permitiera realizar experimentos a mayor velocidad.\n",
    "\n",
    "![mspacman.png](./img/mspacman.png)\n",
    "\n",
    "De esta forma se pudieron realizar ajustes que **demostraron buenos resultados** en el juego, **generalizando también** al lento pacman de Berkeley.\n",
    "\n",
    "A continuación, una lista de correcciones y resultados obtenidos a partir de este nuevo entorno."
   ]
  },
  {
   "cell_type": "markdown",
   "metadata": {},
   "source": [
    "# Statistics\n",
    "\n",
    "Una **prioridad** para esta serie de experimentos fue tener un **mayor grado de información** en cuanto a los resultados de distintos episodios en el tiempo.\n",
    "\n",
    "Para eso se agregaron las siguientes estadísticas:\n",
    "\n",
    "* **Promedio (mean)** de rewards acumulados en **últimos 100 episodios**\n",
    "* **Mediana** del reward acumulado en los **últimos 100 episodios**\n",
    "* **Desviación estándar** de rewards acumulados en últimos **100 episodios**\n",
    "* ***\"Mediana-estándar\"***, como la mediana menos la media sobre desviación estándar $\\frac{\\text{median}-\\text{mean}}{\\sigma}$.\n",
    "  \n",
    "  A modo de combinar en un mismo plot los rewards promedios por cantidad (mediana) y por valor (mean).\n",
    "  \n",
    "\n",
    "### Experimento \"*learning-rate*\"\n",
    "\n",
    "Se compararon 3 valores de step size diferentes:\n",
    "\n",
    "* lr: $10^{-3}$ - ***Rojo***\n",
    "* lr: $10^{-4}$ - ***Naranja***\n",
    "* lr: $10^{-5}$ - ***Azul***\n",
    "\n",
    "![comp-lr.png](./img/comp-lr.png)\n",
    "\n",
    "![comp-lr-smooth.png](./img/comp-lr-smooth.png)\n",
    "\n",
    "Ésto dió bastante certeza en que usar un lr de $10^{-4}$ como se venía haciendo, era lo indicado.\n",
    "\n",
    "Búsquedas más finas no mostraron grandes diferencias, aunque fueron pruebas no tan extensivas en el tiempo.\n",
    "\n",
    "### Experimento \"*número de procesos*\"\n",
    "\n",
    "Un hyperparámetro que agrega A3C es la **cantidad de procesos asincrónicos** a ejecutar.\n",
    "\n",
    "Se comparó **1 vs 6 procesos durante varios días**.\n",
    "\n",
    "Los resultados fueron en favor de una mayor cantidad de procesos.\n",
    "\n",
    "![comp-num-procesos.png](./img/comp-num-procesos.png)\n",
    "(azul: 6; gris: 1)"
   ]
  },
  {
   "cell_type": "markdown",
   "metadata": {},
   "source": [
    "# Rewards and *Expected Reward Count*\n",
    "\n",
    "Como Vlad Mnih menciona en el siguiente video, simplificar los rewards *recortándolos* en valores estándar como -1,0,1 **facilita** la solución del problema para el agente en muchos casos, ya que **convierte el objetivo en obtener más cantidad de veces** rewards, distinto a *mayor reward*, donde existen distintos valores posible para el reward (ej. pacman: +500, +10, +1, 0, -1, -500), y sus combinaciones al calcular $G_t$ puede dar valores parecidos, a partir de combinaciones muy diferentes."
   ]
  },
  {
   "cell_type": "code",
   "execution_count": 3,
   "metadata": {
    "ExecuteTime": {
     "end_time": "2019-08-12T19:44:42.540462Z",
     "start_time": "2019-08-12T19:44:42.532537Z"
    }
   },
   "outputs": [
    {
     "data": {
      "text/html": [
       "<iframe width=\"560\" height=\"315\" src=\"https://www.youtube.com/embed/-mhBD8Frkc4?start=5520\" frameborder=\"0\" allow=\"accelerometer; autoplay; encrypted-media; gyroscope; picture-in-picture\" allowfullscreen></iframe>"
      ],
      "text/plain": [
       "<IPython.core.display.HTML object>"
      ]
     },
     "execution_count": 3,
     "metadata": {},
     "output_type": "execute_result"
    }
   ],
   "source": [
    "from IPython.display import HTML\n",
    "# Youtube\n",
    "HTML('<iframe width=\"560\" height=\"315\" src=\"https://www.youtube.com/embed/-mhBD8Frkc4?start=5520\" frameborder=\"0\" allow=\"accelerometer; autoplay; encrypted-media; gyroscope; picture-in-picture\" allowfullscreen></iframe>')\n",
    "#@1:32:00 https://youtu.be/-mhBD8Frkc4?t=5520"
   ]
  },
  {
   "cell_type": "markdown",
   "metadata": {},
   "source": [
    "En otras palabras, se **maximiza la esperanza de la *cantidad* de rewards recibidos** (*expected reward count*).\n",
    "\n",
    "|   +500  |  +10   |  0 |  -1 |    -500|\n",
    "|------|------|------|------|------|\n",
    "|  $\\downarrow$  |  $\\downarrow$  |  $\\downarrow$  |  $\\downarrow$  |  $\\downarrow$  |\n",
    "|   +1  | +1 |   0  |0|   0  | 0 | \n",
    "\n",
    "Solo esta modificación en el código produjo rápidos resultados, lo cuál tiene sentido para pacman, donde cada pellet y ganar el juego es ahora un +1, y el maximo puntaje será comer todas las pellets (y los fantasmas si *scared*).\n",
    "\n",
    "![pacman-episode-1.gif](./img/pacman-episode-1.gif)\n",
    "\n",
    "A pesar de haber aprendido bastante bien a recoger las pellets de un mapa de 14x14, demuestra poca cautela con los fantasmas, lo que indicó que podría ser conveniente agregar un valor negativo para el evento en el que hace contacto, y pierde.\n",
    "\n",
    "|   +500  |  +10   |  0 |  -1 |    -500|\n",
    "|------|------|------|------|------|\n",
    "|  $\\downarrow$  |  $\\downarrow$  |  $\\downarrow$  |  $\\downarrow$  |  $\\downarrow$  |\n",
    "|   +1  | +1 |   0  |  0  | -1 | \n",
    "\n",
    "Esta modificación no produjo ningún cambio en el comportamiento de Pac-man, lo que indica la necesidad de una mayor exploración en los valores de los hiperparámetros, o solo más tiempo de entrenamiento.\n",
    "\n",
    "### Sobre el código\n",
    "\n",
    "Gym contiene un conveniente paquete de *Wrappers* que permiten envolver al *environment* luego de creado con *gym.make('MsPacman-v0')* modificando funciones como *environment.step(action)* para que devuelva un reward modificado desde cualquier otro lado que sea llamada: \n",
    "\n",
    ">    class UnitReward_cs188x(Wrapper):\n",
    ">        def __init__(self, env=None, monitor=None):\n",
    ">            super(UnitReward_cs188x, self).__init__(env)\n",
    ">            \n",
    ">        def step(self, action):\n",
    ">            state, reward, done, info = self.env.step(action)\n",
    ">            if reward > 0:\n",
    ">                reward = 1.\n",
    ">            else:\n",
    ">                reward = 0.\n",
    ">\n",
    ">            return state, reward, done, info\n",
    "\n"
   ]
  },
  {
   "cell_type": "markdown",
   "metadata": {},
   "source": [
    "# Optimizer\n",
    "\n",
    "Se implementó ***RMSProp con parámetros compartidos*** para contrastar con los de ***Adam***, previamente utilizado.\n",
    "\n",
    "No se observó ninguna diferencia en largos experimentos con los mismos hyperparámetros."
   ]
  },
  {
   "cell_type": "markdown",
   "metadata": {},
   "source": [
    "# Entrada\n",
    "\n",
    "Se modificó el tipo de ***entrada a la red neuronal***.\n",
    "\n",
    "* Manteniendo las **4 rotaciones** de 90°\n",
    "* Asignando a cada rotación, los valores (intensidades) de su **canal de color correspondiente (RGB)**, y *grayscale* para la última imagen.\n",
    "\n",
    "![pacman-episode-4.gif](./img/pacman-episode-4.gif)\n",
    "\n",
    "Originalmente se pensó como alternativa a buscar manualmenmte el mejor equilibrio de grises para la red (variando mean, varianza, etc).\n",
    "\n",
    "Las primeras pruebas fueron usando ***ms-pacman de Atari***, sin las rotaciones (ya que tiene información extra en la parte inferior de la pantalla) pero usando el mismo tipo de división de colores:\n",
    "\n",
    "![mspacman-episode-4.gif](./img/mspacman-episode-4.gif)\n",
    "\n",
    "Partiendo de **pesos ya entrenados** solo con escala de grises, el agente mostró una rápida adaptación al nuevo tipo de entrada:\n",
    "\n",
    "![learning-after-colours.png](./img/learning-after-colours.png)"
   ]
  },
  {
   "cell_type": "markdown",
   "metadata": {},
   "source": [
    "# Skip Frame\n",
    "\n",
    "Otra característica mencionada pero poco explorada en el anterior proyecto, fue el uso de ***skip frame***.\n",
    "\n",
    "La primera impresión al ejecutar ms-pacman con el mismo modelo anterior, fue de que **la simulación también era lenta**.\n",
    "\n",
    "El motivo fue el **alto frame rate**, con el cual cada frame era un estado que debía procesarse por la NN.\n",
    "\n",
    "Para eso se utiliza ***skip frame*** que elije, combina y/o saltea frames consecutivos.\n",
    "\n",
    "Para DQN, la entrada a la red neuronal fueron 4 frames apilados:\n",
    "\n",
    "    [max(T-1,  T),\n",
    "     max(T+3,  T+4),\n",
    "     max(T+7,  T+8),\n",
    "     max(T+11, T+12)]\n",
    "     \n",
    "Donde `max(T-1, T)` es el máximo *elementwise* entre las matrices de píxeles de **dos frames consecutivos**.\n",
    "\n",
    "**Descartando otros 2** frames luego de cada operación max().\n",
    "\n",
    "\n",
    "Para pacman de Atari, se utilizó un filtro similar al de DQN, con una diferencia:\n",
    "\n",
    "* con 1 solo *skip frame*\n",
    "\n",
    "        [max(T,    T+1),\n",
    "         max(T+3,  T+4),\n",
    "         max(T+6,  T+7),\n",
    "         max(T+9,  T+10)]\n",
    "\n",
    "* Sin *skip frames*, solo máximo entre cada dos\n",
    "\n",
    "        [max(T,    T+1),\n",
    "         max(T+2,  T+3),\n",
    "         max(T+4,  T+5),\n",
    "         max(T+6,  T+7)]\n",
    "\n",
    "La siguiente imagen muestra la entrada de píxeles de los 4 estados a la red neuronal, calculando máximo entre cada dos, y salteando 1 frame.\n",
    "\n",
    "![dqn-skip-frame.png](./img/dqn-skip-frame.png)\n",
    "\n",
    "Se determinó que **el frame descartado limitaba la capacidad de reacción del agente**, por lo que se decidió por no usar skip frames.\n",
    "\n",
    "El cambio de entrada produjo resultados negativos (esperados) al agente **ya entrenado** con la entrada anterior.\n",
    "\n",
    "En unas horas de entrenamiento volvió a los valores anteriores y los siguió superando."
   ]
  },
  {
   "cell_type": "markdown",
   "metadata": {},
   "source": [
    "# LSTM + Reciclaje + *Finetunning*\n",
    "\n",
    "Una vez entrenado el agente de modelo neuronal **lineal**, se decidió probar nuevamente una capa LSTM en su lugar.\n",
    "\n",
    "Para ello:\n",
    "\n",
    "1. Se **cargaron los pesos ya entrenados** en el modelo **lineal**\n",
    "2. **Se *\"congelaron\"* las capas convolucionales** para mantener los filtros/features aprendidos\n",
    "3. **Se entrenó el resto** del modelo neuronal **hasta ver mejoras** en el resultado\n",
    "4. Se descongelaron todas las capas y siguió normalmente con el entrenamiento en conjunto\n",
    "\n",
    "A continuación, el nuevo modelo neuronal con LSTM y las capas convolucionales congeladas siendo entrenado, partiendo de los pesos del modelo lineal:\n",
    "\n",
    "![lstm-learn.png](./img/lstm-learn.png)"
   ]
  },
  {
   "cell_type": "markdown",
   "metadata": {},
   "source": [
    "Last but not least\n",
    "# Clamp Critic (Value Function)\n",
    "\n",
    "En la sección [\"Estrategias de modelado\"](https://github.com/LecJackS/TP-Final-Procesos-Markovianos-para-el-Aprendizaje-Automatico-2019-1C-w.o.heavy-history-/blob/master/Very%20quick%20roadmap%20to%20Asynchronous%20Advantage%20Actor%20Critic.ipynb#Estrategias-de-modelado) del trabajo anterior, se notaron **picos muy grandes** en el error (*loss*) calculado, por lo que se optó por poner topes en el mismo de $\\frac{1}{\\text{step-size}}$, sin conocer el motivo de ellos.\n",
    "\n",
    "El problema real fue que la **Value Function (*Critic*)** era una salida en la red neuronal que entregaba valores reales, sin cotas de ningún tipo.\n",
    "\n",
    "Recordando el modelo:\n",
    "\n",
    "![actor-critic-model.png](./img/actor-critic-model.png)\n",
    "\n",
    "Dado que el error total se calcula como:\n",
    "\n",
    ">    total_loss = -actor_loss + ***critic_loss*** - opt.beta * entropy_loss\n",
    "\n",
    "Donde *critic_loss* es:\n",
    "\n",
    ">    critic_loss = critic_loss + (***(Gt - value)^2***) / 2\n",
    "\n",
    "Esa **diferencia al cuadrado** ($(G_t - V_t)^2$)  era la causante de tales magnitudes.\n",
    "\n",
    "Una solución encontrada, fue **acotar los valores de la value function** $V_t$ entre $\\left[0,\\, 20\\right]$.\n",
    "\n",
    "La magnitud $20$ surge de ver los plots de rewards promedio del juego con valores cercanos a 20, y 30 si casi ganando el episodio.\n",
    "\n",
    "El rango de esa magnitud $G_t$ **será particular de cada juego**, como también **de cada instancia en el tiempo** (distintas para un agente bien entrenado, que para uno random)."
   ]
  },
  {
   "cell_type": "markdown",
   "metadata": {},
   "source": [
    "## Cotas dinámicas\n",
    "\n",
    "Una mejor solución fue determinar la magnitud de la cota, como el máximo/mínimo Gt obtenido hasta el momento.\n",
    "\n",
    "> **Inicia** con **cotas para el Crítico** de $[-1, \\,1]$.\n",
    ">\n",
    "> Al finalizar cada episodio ($n$ steps), **se calcula Gt** de los datos guardados\n",
    ">\n",
    "> $G_t^{(n)} = R_{t+1} + \\gamma\\, R_{t+2}\\, + \\gamma^2\\, R_{t+3} + \\, ... \\, + \\, \\gamma^{n-1} R_{t+n} + \\gamma^{n}\\, \\tilde{V}(S_{t+n})$\n",
    ">\n",
    ">     1. Si (Gt > cotaMax): \n",
    ">\n",
    ">        cotaMax = Gt\n",
    ">\n",
    ">     2. Si (Gt < cotaMin): \n",
    ">\n",
    ">        cotaMin = Gt\n",
    "\n",
    "Luego, estimo $V_t$ usando red neuronal, y recorto con cotas:\n",
    "\n",
    ">      logits, value = local_model(state)\n",
    ">\n",
    ">      value.clamp(cotaMin, cotaMax)\n",
    "\n",
    "De esta forma, los valores máximo/mínimo del Crítico aumentarán **a medida que se vean puntajes más altos**.\n",
    "\n",
    "#### Problema:\n",
    "\n",
    "* Las **cotas no forman parte del modelo** neuronal, el cual tendrá **como salida valores no-acotados**, que se recortarán, y **a partir de estos valores modificados se calculará el error** (***loss***) con el cual se actualizarán los pesos.\n",
    "\n",
    "#### Solución:\n",
    "\n",
    "* Agregar una ***función tangente hiperbólica (tanh)*** al modelo neuronal, de forma que a la salida sean valores entre -1 y 1, con un mejor gradiente con el cual actualizar los pesos."
   ]
  },
  {
   "cell_type": "markdown",
   "metadata": {},
   "source": [
    "### Normalizando recompensas\n",
    "\n",
    "Tener una salida entre $-1$ y $+1$ permite simplificar el problema devolviendo estimaciones cercanas a $+1$ para estados favorables, y a $-1$ para los que no.\n",
    "\n",
    "Es necesario ahora normalizar acorde el resto de las recompensas, que siguen siendo valores entre $0$ y $\\approx30$.\n",
    "\n",
    "Para ello, cada reward $R_{t+1}$ obtenido luego de cada acción $A_t$ es dividido por el máximo $G_t$ visto hasta el momento\n",
    "\n",
    "    state, reward, done, _ = env.step(action)\n",
    "    reward = reward / max_Gt\n",
    "    \n",
    "Siendo:\n",
    "    \n",
    "    R = reward + gamma * R\n",
    "    max_Gt = max(max_Gt, abs(R))\n",
    "    \n",
    "Con esto se soluciona tanto el problema de los **valores extremos del Crítico**, como también la **diferencia en órden de magnitud del error del Actor**:\n",
    "\n",
    "$$loss_{critic} = loss_{critic} + \\frac{1}{2}((G_t - V_t)^ 2)$$\n",
    "\n",
    "Ya que:\n",
    "\n",
    "$V_t \\in [-1, 1]$ , pues es la imagen de una Tanh\n",
    "\n",
    "y \n",
    "\n",
    "$G_t \\in [-1, 1]$ , pues es siempre dividido por el ***máximo*** $G_t$ observado hasta el momento."
   ]
  },
  {
   "cell_type": "markdown",
   "metadata": {},
   "source": [
    "# Plots\n",
    "\n",
    "de los errores calculados por los 3 métodos mencionados.\n",
    "\n",
    "**Observar:** Escalas en el eje Y (error)\n",
    "\n",
    "## Clamp on loss \n",
    "![loss-before-clamp.png](./img/loss-before-clamp.png)\n",
    "\n",
    "## Clamp on Critic value\n",
    "![loss-after-clamp.png](./img/loss-after-clamp.png)\n",
    "\n",
    "## Tanh + Normalization\n",
    "![total-loss-normalized.png](./img/total-loss-normalized.png)\n",
    "\n",
    "## Tanh + Normalization w/ maxGt decay\n",
    "\n",
    "    # on each time step, decay max_Gt over time to adjust to actual Gt scale\n",
    "    max_Gt = max_Gt * 0.9999\n",
    "    \n",
    "\n",
    "          \n",
    "![total-loss-decay.png](./img/total-loss-decay.png)\n",
    "\n",
    "Formado por la suma de:\n",
    "\n",
    "1. **+ Critic** loss\n",
    "2. **- Actor** loss\n",
    "3. **- Entropy** loss * 0.01\n",
    "\n",
    "![critic-loss-decay.png](./img/critic-loss-decay.png)\n",
    "![actor-loss-decay.png](./img/actor-loss-decay.png)\n",
    "![entropy-loss-decay.png](./img/entropy-loss-decay.png)\n",
    "\n",
    "  - `max_Gt` con valor inicial `max_Gt=10`, con `decay=0.9999`:\n",
    "![maxGt-decay.png](./img/maxGt-decay.png)\n",
    "\n",
    "Plots en orden de aparición:\n",
    "\n",
    "  1. `Acum_Reward`: **Recompensa** por cada episodio **sin normalizar**\n",
    "  2. `Gt`: **Recompensa** por cada episodio **normalizada** con `max_Gt`\n",
    "  3. `Last100_mean`: **Recompensa promedio** de los últimos 100 ***episodios***\n",
    "  4. `Last100_median`: **Mediana** de las últimas 100 ***recompensas***\n",
    "\n",
    "![returns-decay.png](./img/returns-decay.png)\n"
   ]
  },
  {
   "cell_type": "markdown",
   "metadata": {},
   "source": [
    "# Resultados\n",
    "\n",
    "Este último cambio volvió al algoritmo más **robusto** y **predecible**, pudiendo ajustar mejor los hiperparámetros al ritmo de avances en el aprendizaje (mayores puntajes promedio y mediana)."
   ]
  },
  {
   "cell_type": "markdown",
   "metadata": {},
   "source": [
    "# Código\n",
    "\n",
    "## Test\n",
    "\n",
    "El siguiente código muestra un agente **entrenado durante varios días** en *Ms Pac-man de Atari*.\n",
    "\n",
    "Si es la primera vez que se ejecuta el código, descargará un archivo el archivo de 2.7MB con los pesos guardados (dos celdas más abajo se puede en video)."
   ]
  },
  {
   "cell_type": "code",
   "execution_count": 1,
   "metadata": {
    "ExecuteTime": {
     "end_time": "2019-09-14T17:53:57.502962Z",
     "start_time": "2019-09-14T17:53:57.498232Z"
    }
   },
   "outputs": [
    {
     "name": "stdout",
     "output_type": "stream",
     "text": [
      "Checking if saved model: ./trained_models/gym-pacman_atari ...\n",
      "Already there.\n"
     ]
    }
   ],
   "source": [
    "import os\n",
    "os.chdir('/home/jack/TP-Final-Procesos-Markovianos-para-el-Aprendizaje-Automatico-2019-1C/gym_pacman')\n",
    "saved_path = './trained_models'\n",
    "layout = 'atari'\n",
    "saved_model = \"{}/gym-pacman_{}\".format(saved_path, layout)\n",
    "print(\"Checking if saved model: {} ...\".format(saved_model))\n",
    "if not os.path.isfile(saved_model):\n",
    "    try:\n",
    "        import urllib.request\n",
    "        print('File not found, downloading saved model...')\n",
    "        url = 'https://github.com/LecJackS/trained-models/blob/master/gym-pacman/gym-pacman_atari?raw=true'\n",
    "        file_name = 'gym-pacman_atari'\n",
    "        urllib.request.urlretrieve(url, '{}/{}'.format(saved_path, file_name))\n",
    "        print('Download done.')\n",
    "    except:\n",
    "        print(\"Something wrong happened, couldn't download model\")\n",
    "else:\n",
    "    print('Already there.')"
   ]
  },
  {
   "cell_type": "markdown",
   "metadata": {},
   "source": [
    "El juego consiste en devorar todas las pellets teniendo 3 vidas disponibles, siguiendo las [reglas usuales de Pac-man](https://en.wikipedia.org/wiki/Pac-Man_(Atari_2600)#Gameplay).\n",
    "\n",
    "Si el juego parpadea, es porque completó el nivel.\n",
    "\n",
    "$_\\text{(si uno parpadea, se pierde el juego)}$"
   ]
  },
  {
   "cell_type": "code",
   "execution_count": 2,
   "metadata": {
    "ExecuteTime": {
     "end_time": "2019-09-14T17:54:37.622483Z",
     "start_time": "2019-09-14T17:53:59.063602Z"
    }
   },
   "outputs": [
    {
     "name": "stdout",
     "output_type": "stream",
     "text": [
      "Getting number of NN inputs/outputs for atari\n",
      "Loading saved model: trained_models/gym-pacman_atari ...\n",
      "Done.\n",
      " 1: Done. #returns/#steps: 120 / 191 = 0.62827\n",
      " 2: Done. #returns/#steps: 175 / 244 = 0.71721\n",
      " 3: Done. #returns/#steps: 102 / 153 = 0.66667\n",
      " 4: Done. #returns/#steps: 207 / 304 = 0.68092\n",
      " 5: Done. #returns/#steps: 107 / 186 = 0.57527\n",
      " 6: Done. #returns/#steps: 113 / 186 = 0.60753\n",
      " 7: Done. #returns/#steps: 141 / 217 = 0.64977\n",
      " 8: Done. #returns/#steps: 195 / 300 = 0.65000\n",
      " 9: Done. #returns/#steps: 213 / 330 = 0.64545\n",
      "10: Done. #returns/#steps: 160 / 235 = 0.68085\n",
      "Number of tests completed.\n"
     ]
    }
   ],
   "source": [
    "# Reset kernel to go to default directory\n",
    "import os\n",
    "os.chdir('/home/jack/TP-Final-Procesos-Markovianos-para-el-Aprendizaje-Automatico-2019-1C/gym_pacman')\n",
    "#os.chdir('./gym_pacman')\n",
    "\n",
    "from test_agent import test\n",
    "from argparse import Namespace\n",
    "args = Namespace(layout='atari',\n",
    "                 saved_path='trained_models',\n",
    "                 num_games_to_play=10)\n",
    "test(args)"
   ]
  },
  {
   "cell_type": "markdown",
   "metadata": {},
   "source": [
    "#### Video:"
   ]
  },
  {
   "cell_type": "code",
   "execution_count": 2,
   "metadata": {
    "ExecuteTime": {
     "end_time": "2019-09-13T21:51:40.361589Z",
     "start_time": "2019-09-13T21:51:40.167671Z"
    }
   },
   "outputs": [
    {
     "data": {
      "image/jpeg": "[encoded data removed]",
      "text/html": [
       "\n",
       "        <iframe\n",
       "            width=\"400\"\n",
       "            height=\"300\"\n",
       "            src=\"https://www.youtube.com/embed/OwYbJGBBL64\"\n",
       "            frameborder=\"0\"\n",
       "            allowfullscreen\n",
       "        ></iframe>\n",
       "        "
      ],
      "text/plain": [
       "<IPython.lib.display.YouTubeVideo at 0x7fc956219860>"
      ]
     },
     "execution_count": 2,
     "metadata": {},
     "output_type": "execute_result"
    }
   ],
   "source": [
    "from IPython.display import YouTubeVideo\n",
    "YouTubeVideo('OwYbJGBBL64')"
   ]
  },
  {
   "cell_type": "markdown",
   "metadata": {},
   "source": [
    "## Train\n",
    "\n",
    "El siguiente código sigue entrenando un agente guardado en la carpeta `trained_models`.\n",
    "\n",
    "Si no existe el archivo con el `layout` solicitado, crea uno nuevo y lo entrena desde cero.\n",
    "\n",
    "Para ver las estadísticas en Tensorboard, correr:\n",
    "\n",
    ">      tensorboard --logdir=alias:./tensorboard"
   ]
  },
  {
   "cell_type": "code",
   "execution_count": 3,
   "metadata": {
    "ExecuteTime": {
     "end_time": "2019-09-14T17:56:02.062808Z",
     "start_time": "2019-09-14T17:55:40.663171Z"
    },
    "code_folding": [],
    "run_control": {
     "marked": false
    },
    "scrolled": true
   },
   "outputs": [
    {
     "name": "stdout",
     "output_type": "stream",
     "text": [
      "Agent progress details are displayed on this jupyter notebook TERMINAL (not here)\n",
      "\n",
      "Getting number of NN inputs/outputs for atari\n",
      "Loading previous weights for atari... Done.\n"
     ]
    },
    {
     "ename": "KeyboardInterrupt",
     "evalue": "",
     "output_type": "error",
     "traceback": [
      "\u001b[0;31m---------------------------------------------------------------------------\u001b[0m",
      "\u001b[0;31mKeyboardInterrupt\u001b[0m                         Traceback (most recent call last)",
      "\u001b[0;32m<ipython-input-3-06a8dd58be2d>\u001b[0m in \u001b[0;36m<module>\u001b[0;34m\u001b[0m\n\u001b[1;32m     21\u001b[0m                  record=False)\n\u001b[1;32m     22\u001b[0m \u001b[0mprint\u001b[0m\u001b[0;34m(\u001b[0m\u001b[0;34m\"Agent progress details are displayed on this jupyter notebook TERMINAL (not here)\\n\"\u001b[0m\u001b[0;34m)\u001b[0m\u001b[0;34m\u001b[0m\u001b[0;34m\u001b[0m\u001b[0m\n\u001b[0;32m---> 23\u001b[0;31m \u001b[0mtrain\u001b[0m\u001b[0;34m(\u001b[0m\u001b[0margs\u001b[0m\u001b[0;34m)\u001b[0m\u001b[0;34m\u001b[0m\u001b[0;34m\u001b[0m\u001b[0m\n\u001b[0m",
      "\u001b[0;32m~/TP-Final-Procesos-Markovianos-para-el-Aprendizaje-Automatico-2019-1C/gym_pacman/train.py\u001b[0m in \u001b[0;36mtrain\u001b[0;34m(opt)\u001b[0m\n\u001b[1;32m    104\u001b[0m \u001b[0;34m\u001b[0m\u001b[0m\n\u001b[1;32m    105\u001b[0m     \u001b[0;32mfor\u001b[0m \u001b[0mprocess\u001b[0m \u001b[0;32min\u001b[0m \u001b[0mprocesses\u001b[0m\u001b[0;34m:\u001b[0m\u001b[0;34m\u001b[0m\u001b[0;34m\u001b[0m\u001b[0m\n\u001b[0;32m--> 106\u001b[0;31m         \u001b[0mprocess\u001b[0m\u001b[0;34m.\u001b[0m\u001b[0mjoin\u001b[0m\u001b[0;34m(\u001b[0m\u001b[0;34m)\u001b[0m\u001b[0;34m\u001b[0m\u001b[0;34m\u001b[0m\u001b[0m\n\u001b[0m\u001b[1;32m    107\u001b[0m \u001b[0;34m\u001b[0m\u001b[0m\n\u001b[1;32m    108\u001b[0m \u001b[0;32mif\u001b[0m \u001b[0m__name__\u001b[0m \u001b[0;34m==\u001b[0m \u001b[0;34m\"__main__\"\u001b[0m\u001b[0;34m:\u001b[0m\u001b[0;34m\u001b[0m\u001b[0;34m\u001b[0m\u001b[0m\n",
      "\u001b[0;32m~/anaconda3/envs/pytorch/lib/python3.7/multiprocessing/process.py\u001b[0m in \u001b[0;36mjoin\u001b[0;34m(self, timeout)\u001b[0m\n\u001b[1;32m    138\u001b[0m         \u001b[0;32massert\u001b[0m \u001b[0mself\u001b[0m\u001b[0;34m.\u001b[0m\u001b[0m_parent_pid\u001b[0m \u001b[0;34m==\u001b[0m \u001b[0mos\u001b[0m\u001b[0;34m.\u001b[0m\u001b[0mgetpid\u001b[0m\u001b[0;34m(\u001b[0m\u001b[0;34m)\u001b[0m\u001b[0;34m,\u001b[0m \u001b[0;34m'can only join a child process'\u001b[0m\u001b[0;34m\u001b[0m\u001b[0;34m\u001b[0m\u001b[0m\n\u001b[1;32m    139\u001b[0m         \u001b[0;32massert\u001b[0m \u001b[0mself\u001b[0m\u001b[0;34m.\u001b[0m\u001b[0m_popen\u001b[0m \u001b[0;32mis\u001b[0m \u001b[0;32mnot\u001b[0m \u001b[0;32mNone\u001b[0m\u001b[0;34m,\u001b[0m \u001b[0;34m'can only join a started process'\u001b[0m\u001b[0;34m\u001b[0m\u001b[0;34m\u001b[0m\u001b[0m\n\u001b[0;32m--> 140\u001b[0;31m         \u001b[0mres\u001b[0m \u001b[0;34m=\u001b[0m \u001b[0mself\u001b[0m\u001b[0;34m.\u001b[0m\u001b[0m_popen\u001b[0m\u001b[0;34m.\u001b[0m\u001b[0mwait\u001b[0m\u001b[0;34m(\u001b[0m\u001b[0mtimeout\u001b[0m\u001b[0;34m)\u001b[0m\u001b[0;34m\u001b[0m\u001b[0;34m\u001b[0m\u001b[0m\n\u001b[0m\u001b[1;32m    141\u001b[0m         \u001b[0;32mif\u001b[0m \u001b[0mres\u001b[0m \u001b[0;32mis\u001b[0m \u001b[0;32mnot\u001b[0m \u001b[0;32mNone\u001b[0m\u001b[0;34m:\u001b[0m\u001b[0;34m\u001b[0m\u001b[0;34m\u001b[0m\u001b[0m\n\u001b[1;32m    142\u001b[0m             \u001b[0m_children\u001b[0m\u001b[0;34m.\u001b[0m\u001b[0mdiscard\u001b[0m\u001b[0;34m(\u001b[0m\u001b[0mself\u001b[0m\u001b[0;34m)\u001b[0m\u001b[0;34m\u001b[0m\u001b[0;34m\u001b[0m\u001b[0m\n",
      "\u001b[0;32m~/anaconda3/envs/pytorch/lib/python3.7/multiprocessing/popen_fork.py\u001b[0m in \u001b[0;36mwait\u001b[0;34m(self, timeout)\u001b[0m\n\u001b[1;32m     46\u001b[0m                     \u001b[0;32mreturn\u001b[0m \u001b[0;32mNone\u001b[0m\u001b[0;34m\u001b[0m\u001b[0;34m\u001b[0m\u001b[0m\n\u001b[1;32m     47\u001b[0m             \u001b[0;31m# This shouldn't block if wait() returned successfully.\u001b[0m\u001b[0;34m\u001b[0m\u001b[0;34m\u001b[0m\u001b[0;34m\u001b[0m\u001b[0m\n\u001b[0;32m---> 48\u001b[0;31m             \u001b[0;32mreturn\u001b[0m \u001b[0mself\u001b[0m\u001b[0;34m.\u001b[0m\u001b[0mpoll\u001b[0m\u001b[0;34m(\u001b[0m\u001b[0mos\u001b[0m\u001b[0;34m.\u001b[0m\u001b[0mWNOHANG\u001b[0m \u001b[0;32mif\u001b[0m \u001b[0mtimeout\u001b[0m \u001b[0;34m==\u001b[0m \u001b[0;36m0.0\u001b[0m \u001b[0;32melse\u001b[0m \u001b[0;36m0\u001b[0m\u001b[0;34m)\u001b[0m\u001b[0;34m\u001b[0m\u001b[0;34m\u001b[0m\u001b[0m\n\u001b[0m\u001b[1;32m     49\u001b[0m         \u001b[0;32mreturn\u001b[0m \u001b[0mself\u001b[0m\u001b[0;34m.\u001b[0m\u001b[0mreturncode\u001b[0m\u001b[0;34m\u001b[0m\u001b[0;34m\u001b[0m\u001b[0m\n\u001b[1;32m     50\u001b[0m \u001b[0;34m\u001b[0m\u001b[0m\n",
      "\u001b[0;32m~/anaconda3/envs/pytorch/lib/python3.7/multiprocessing/popen_fork.py\u001b[0m in \u001b[0;36mpoll\u001b[0;34m(self, flag)\u001b[0m\n\u001b[1;32m     26\u001b[0m         \u001b[0;32mif\u001b[0m \u001b[0mself\u001b[0m\u001b[0;34m.\u001b[0m\u001b[0mreturncode\u001b[0m \u001b[0;32mis\u001b[0m \u001b[0;32mNone\u001b[0m\u001b[0;34m:\u001b[0m\u001b[0;34m\u001b[0m\u001b[0;34m\u001b[0m\u001b[0m\n\u001b[1;32m     27\u001b[0m             \u001b[0;32mtry\u001b[0m\u001b[0;34m:\u001b[0m\u001b[0;34m\u001b[0m\u001b[0;34m\u001b[0m\u001b[0m\n\u001b[0;32m---> 28\u001b[0;31m                 \u001b[0mpid\u001b[0m\u001b[0;34m,\u001b[0m \u001b[0msts\u001b[0m \u001b[0;34m=\u001b[0m \u001b[0mos\u001b[0m\u001b[0;34m.\u001b[0m\u001b[0mwaitpid\u001b[0m\u001b[0;34m(\u001b[0m\u001b[0mself\u001b[0m\u001b[0;34m.\u001b[0m\u001b[0mpid\u001b[0m\u001b[0;34m,\u001b[0m \u001b[0mflag\u001b[0m\u001b[0;34m)\u001b[0m\u001b[0;34m\u001b[0m\u001b[0;34m\u001b[0m\u001b[0m\n\u001b[0m\u001b[1;32m     29\u001b[0m             \u001b[0;32mexcept\u001b[0m \u001b[0mOSError\u001b[0m \u001b[0;32mas\u001b[0m \u001b[0me\u001b[0m\u001b[0;34m:\u001b[0m\u001b[0;34m\u001b[0m\u001b[0;34m\u001b[0m\u001b[0m\n\u001b[1;32m     30\u001b[0m                 \u001b[0;31m# Child process not yet created. See #1731717\u001b[0m\u001b[0;34m\u001b[0m\u001b[0;34m\u001b[0m\u001b[0;34m\u001b[0m\u001b[0m\n",
      "\u001b[0;31mKeyboardInterrupt\u001b[0m: "
     ]
    }
   ],
   "source": [
    "import os\n",
    "os.chdir('/home/jack/TP-Final-Procesos-Markovianos-para-el-Aprendizaje-Automatico-2019-1C/gym_pacman')\n",
    "#os.chdir('./gym_pacman')\n",
    "from train import train\n",
    "from argparse import Namespace\n",
    "args = Namespace(beta =0.001,\n",
    "                 gamma=0.9,\n",
    "                 tau=1.0,\n",
    "                 lr=3e-5,\n",
    "                 layout='atari',\n",
    "                 load_previous_weights=True,\n",
    "                 num_processes=8,                # numero de procesos asincronicos\n",
    "                 num_processes_to_render=1,     # numero de procesos a visualizar\n",
    "                 use_gpu=False,\n",
    "                 max_actions=200,\n",
    "                 num_global_steps=5e9,\n",
    "                 num_local_steps=50,     # async updates every\n",
    "                 save_interval=25,\n",
    "                 saved_path='trained_models',\n",
    "                 log_path='tensorboard',\n",
    "                 record=False)\n",
    "print(\"Agent progress details are displayed on this jupyter notebook TERMINAL (not here)\\n\")\n",
    "train(args)"
   ]
  },
  {
   "cell_type": "markdown",
   "metadata": {},
   "source": [
    "# Berkeley Pac-man\n",
    "\n",
    "Usando las mejoras implementadas en Ms Pac-man de Atari, se obtuvieron mejores resultados en el Pac-man de Berkeley.\n",
    "\n",
    "Cada mapa de cada juego (episodio) se genera de forma aleatoria:\n",
    "\n",
    "* Mapa de **14x14** celdas\n",
    "* Cantidad de fantasmas entre **1 y 3**\n",
    "* Cada fantasma $i$ es **creado** con una **agresividad aleatoria** $\\in [0, 0.9]$ (acción aleatoria $A^-_i$ con $P(A^-_i) \\in [1.0, 0.1]$)\n",
    "* ***Pellets (food)*** ocuparán de manera aleatoria una **fracción del espacio** vacío $\\in [0.1, 0.9]$\n",
    "* **Posición de inicio** de todos los agentes es **aleatoria** (con una mínima distancia en favor de Pac-man)\n",
    "\n",
    "### Entrada a la red neuronal \n",
    "\n",
    "* Tensor de dimensión $4 \\times 84 \\times 84$\n",
    "* **Cada imagen** de $84 \\times 84$ **corresponde al mismo frame** (sin *skip-frame*)\n",
    "* Cada uno de los $4$ canales **corresponde a las intensidades** de ***RGB+Grayscale*** de los píxeles del juego en colores\n",
    "\n",
    "![cs188x-pacman-episode.gif](./img/cs188x-pacman-episode.gif)\n",
    "\n"
   ]
  },
  {
   "cell_type": "markdown",
   "metadata": {},
   "source": [
    "# Código\n",
    "\n",
    "## Test\n",
    "\n",
    "El siguiente código muestra un agente **entrenado durante varios días** en el [simulador de Pac-man de Berkeley](http://ai.berkeley.edu/project_overview.html).\n",
    "\n",
    "Si es la primera vez que se ejecuta el código, descargará un archivo el archivo de 2.7MB con los pesos guardados (dos celdas más abajo se puede en video)."
   ]
  },
  {
   "cell_type": "code",
   "execution_count": 2,
   "metadata": {
    "ExecuteTime": {
     "end_time": "2019-09-14T18:02:39.181425Z",
     "start_time": "2019-09-14T18:02:39.172083Z"
    }
   },
   "outputs": [
    {
     "name": "stdout",
     "output_type": "stream",
     "text": [
      "Checking if saved model: ./trained_models/gym-pacman_atari ...\n",
      "Already there.\n"
     ]
    }
   ],
   "source": [
    "import os\n",
    "os.chdir('/home/jack/TP-Final-Procesos-Markovianos-para-el-Aprendizaje-Automatico-2019-1C/gym_pacman')\n",
    "saved_path = './trained_models'\n",
    "layout = 'atari'\n",
    "saved_model = \"{}/gym-pacman_{}\".format(saved_path, layout)\n",
    "print(\"Checking if saved model: {} ...\".format(saved_model))\n",
    "if not os.path.isfile(saved_model):\n",
    "    try:\n",
    "        import urllib.request\n",
    "        print('File not found, downloading saved model...')\n",
    "        url = 'https://github.com/LecJackS/trained-models/blob/master/gym-pacman/gym-pacman_cs188x?raw=true'\n",
    "        file_name = 'gym-pacman_cs188x'\n",
    "        urllib.request.urlretrieve(url, '{}/{}'.format(saved_path, file_name))\n",
    "        print('Download done.')\n",
    "    except:\n",
    "        print(\"Something wrong happened, couldn't download model\")\n",
    "else:\n",
    "    print('Already there.')"
   ]
  },
  {
   "cell_type": "code",
   "execution_count": 1,
   "metadata": {
    "ExecuteTime": {
     "end_time": "2019-09-14T18:18:02.502666Z",
     "start_time": "2019-09-14T18:17:48.523464Z"
    }
   },
   "outputs": [
    {
     "name": "stdout",
     "output_type": "stream",
     "text": [
      "Getting number of NN inputs/outputs for layout cs188x\n",
      "Loading saved model: trained_models/gym-pacman_cs188x ...\n",
      "Done.\n",
      "PENALTY_:  0\n",
      "real reward: -1.0\n",
      "reward:  0.0\n",
      "PENALTY_:  0\n",
      "real reward: -1.0\n",
      "reward:  0.0\n",
      "PENALTY_:  0\n",
      "real reward: 9.0\n",
      "reward:  1.0\n",
      "PENALTY_:  0\n",
      "real reward: -1.0\n",
      "reward:  0.0\n",
      "PENALTY_:  0\n",
      "real reward: -1.0\n",
      "reward:  0.0\n",
      "Pacman died! Score: -486\n",
      "PENALTY_:  0\n",
      "real reward: -491.0\n",
      "reward:  -1.0\n",
      " 1: Done. #returns/#steps:   0 /   6 = 0.00000\n",
      "PENALTY_:  0\n",
      "real reward: -1.0\n",
      "reward:  0.0\n",
      "PENALTY_:  0\n",
      "real reward: 9.0\n",
      "reward:  1.0\n",
      "PENALTY_:  0\n",
      "real reward: 9.0\n",
      "reward:  1.0\n",
      "PENALTY_:  0\n",
      "real reward: 9.0\n",
      "reward:  1.0\n",
      "PENALTY_:  0\n",
      "real reward: -1.0\n",
      "reward:  0.0\n",
      "PENALTY_:  0\n",
      "real reward: 9.0\n",
      "reward:  1.0\n",
      "PENALTY_:  0\n",
      "real reward: 9.0\n",
      "reward:  1.0\n",
      "PENALTY_:  0\n",
      "real reward: 9.0\n",
      "reward:  1.0\n",
      "PENALTY_:  0\n",
      "real reward: -1.0\n",
      "reward:  0.0\n",
      "PENALTY_:  0\n",
      "real reward: 9.0\n",
      "reward:  1.0\n",
      "PENALTY_:  0\n",
      "real reward: 9.0\n",
      "reward:  1.0\n",
      "PENALTY_:  0\n",
      "real reward: -1.0\n",
      "reward:  0.0\n",
      "PENALTY_:  0\n",
      "real reward: 199.0\n",
      "reward:  1.0\n",
      "PENALTY_:  0\n",
      "real reward: 9.0\n",
      "reward:  1.0\n",
      "PENALTY_:  0\n",
      "real reward: 9.0\n",
      "reward:  1.0\n",
      "PENALTY_:  0\n",
      "real reward: -1.0\n",
      "reward:  0.0\n",
      "PENALTY_:  0\n",
      "real reward: 9.0\n",
      "reward:  1.0\n",
      "PENALTY_:  0\n",
      "real reward: 9.0\n",
      "reward:  1.0\n",
      "PENALTY_:  0\n",
      "real reward: 9.0\n",
      "reward:  1.0\n",
      "PENALTY_:  0\n",
      "real reward: -1.0\n",
      "reward:  0.0\n",
      "PENALTY_:  0\n",
      "real reward: 9.0\n",
      "reward:  1.0\n",
      "PENALTY_:  0\n",
      "real reward: 9.0\n",
      "reward:  1.0\n",
      "PENALTY_:  0\n",
      "real reward: 9.0\n",
      "reward:  1.0\n",
      "PENALTY_:  0\n",
      "real reward: 9.0\n",
      "reward:  1.0\n",
      "PENALTY_:  0\n",
      "real reward: 9.0\n",
      "reward:  1.0\n",
      "PENALTY_:  0\n",
      "real reward: 9.0\n",
      "reward:  1.0\n",
      "PENALTY_:  0\n",
      "real reward: -1.0\n",
      "reward:  0.0\n",
      "PENALTY_:  0\n",
      "real reward: -1.0\n",
      "reward:  0.0\n",
      "PENALTY_:  0\n",
      "real reward: -1.0\n",
      "reward:  0.0\n",
      "PENALTY_:  0\n",
      "real reward: -1.0\n",
      "reward:  0.0\n",
      "PENALTY_:  0\n",
      "real reward: -1.0\n",
      "reward:  0.0\n",
      "PENALTY_:  0\n",
      "real reward: -1.0\n",
      "reward:  0.0\n",
      "PENALTY_:  0\n",
      "real reward: -1.0\n",
      "reward:  0.0\n",
      "PENALTY_:  0\n",
      "real reward: -1.0\n",
      "reward:  0.0\n",
      "PENALTY_:  0\n",
      "real reward: -1.0\n",
      "reward:  0.0\n",
      "PENALTY_:  0\n",
      "real reward: -1.0\n",
      "reward:  0.0\n",
      "PENALTY_:  0\n",
      "real reward: -1.0\n",
      "reward:  0.0\n",
      "PENALTY_:  0\n",
      "real reward: -1.0\n",
      "reward:  0.0\n",
      "PENALTY_:  0\n",
      "real reward: -1.0\n",
      "reward:  0.0\n",
      "PENALTY_:  0\n",
      "real reward: -1.0\n",
      "reward:  0.0\n",
      "Pacman died! Score: -141\n",
      "PENALTY_:  0\n",
      "real reward: -491.0\n",
      "reward:  -1.0\n",
      " 2: Done. #returns/#steps:  19 /  41 = 0.46341\n",
      "PENALTY_:  0\n",
      "real reward: 9.0\n",
      "reward:  1.0\n",
      "PENALTY_:  0\n",
      "real reward: -1.0\n",
      "reward:  0.0\n",
      "PENALTY_:  0\n",
      "real reward: -1.0\n",
      "reward:  0.0\n",
      "PENALTY_:  0\n",
      "real reward: -1.0\n",
      "reward:  0.0\n",
      "PENALTY_:  0\n",
      "real reward: 9.0\n",
      "reward:  1.0\n",
      "PENALTY_:  0\n",
      "real reward: -1.0\n",
      "reward:  0.0\n",
      "PENALTY_:  0\n",
      "real reward: -1.0\n",
      "reward:  0.0\n",
      "PENALTY_:  0\n",
      "real reward: 9.0\n",
      "reward:  1.0\n",
      "PENALTY_:  0\n",
      "real reward: 9.0\n",
      "reward:  1.0\n",
      "PENALTY_:  0\n",
      "real reward: 9.0\n",
      "reward:  1.0\n",
      "PENALTY_:  0\n",
      "real reward: -1.0\n",
      "reward:  0.0\n",
      "PENALTY_:  0\n",
      "real reward: -1.0\n",
      "reward:  0.0\n",
      "PENALTY_:  0\n",
      "real reward: -1.0\n",
      "reward:  0.0\n",
      "PENALTY_:  0\n",
      "real reward: -1.0\n",
      "reward:  0.0\n",
      "PENALTY_:  0\n",
      "real reward: -1.0\n",
      "reward:  0.0\n",
      "PENALTY_:  0\n",
      "real reward: -1.0\n",
      "reward:  0.0\n",
      "PENALTY_:  0\n",
      "real reward: -1.0\n",
      "reward:  0.0\n",
      "PENALTY_:  0\n",
      "real reward: -1.0\n",
      "reward:  0.0\n"
     ]
    },
    {
     "ename": "KeyboardInterrupt",
     "evalue": "",
     "output_type": "error",
     "traceback": [
      "\u001b[0;31m---------------------------------------------------------------------------\u001b[0m",
      "\u001b[0;31mKeyboardInterrupt\u001b[0m                         Traceback (most recent call last)",
      "\u001b[0;32m<ipython-input-1-52dd47a71121>\u001b[0m in \u001b[0;36m<module>\u001b[0;34m\u001b[0m\n\u001b[1;32m      9\u001b[0m                  \u001b[0msaved_path\u001b[0m\u001b[0;34m=\u001b[0m\u001b[0;34m'trained_models'\u001b[0m\u001b[0;34m,\u001b[0m\u001b[0;34m\u001b[0m\u001b[0;34m\u001b[0m\u001b[0m\n\u001b[1;32m     10\u001b[0m                  num_games_to_play=10)\n\u001b[0;32m---> 11\u001b[0;31m \u001b[0mtest\u001b[0m\u001b[0;34m(\u001b[0m\u001b[0margs\u001b[0m\u001b[0;34m)\u001b[0m\u001b[0;34m\u001b[0m\u001b[0;34m\u001b[0m\u001b[0m\n\u001b[0m",
      "\u001b[0;32m~/TP-Final-Procesos-Markovianos-para-el-Aprendizaje-Automatico-2019-1C/gym_pacman/test_agent.py\u001b[0m in \u001b[0;36mtest\u001b[0;34m(opt)\u001b[0m\n\u001b[1;32m     66\u001b[0m             \u001b[0mstate\u001b[0m \u001b[0;34m=\u001b[0m \u001b[0mstate\u001b[0m\u001b[0;34m.\u001b[0m\u001b[0mcuda\u001b[0m\u001b[0;34m(\u001b[0m\u001b[0;34m)\u001b[0m\u001b[0;34m\u001b[0m\u001b[0;34m\u001b[0m\u001b[0m\n\u001b[1;32m     67\u001b[0m \u001b[0;34m\u001b[0m\u001b[0m\n\u001b[0;32m---> 68\u001b[0;31m         \u001b[0mlogits\u001b[0m\u001b[0;34m,\u001b[0m \u001b[0mvalue\u001b[0m\u001b[0;34m,\u001b[0m \u001b[0mh_0\u001b[0m\u001b[0;34m,\u001b[0m \u001b[0mc_0\u001b[0m \u001b[0;34m=\u001b[0m \u001b[0mmodel\u001b[0m\u001b[0;34m(\u001b[0m\u001b[0mstate\u001b[0m\u001b[0;34m,\u001b[0m \u001b[0mh_0\u001b[0m\u001b[0;34m,\u001b[0m \u001b[0mc_0\u001b[0m\u001b[0;34m)\u001b[0m\u001b[0;34m\u001b[0m\u001b[0;34m\u001b[0m\u001b[0m\n\u001b[0m\u001b[1;32m     69\u001b[0m         \u001b[0mpolicy\u001b[0m \u001b[0;34m=\u001b[0m \u001b[0mF\u001b[0m\u001b[0;34m.\u001b[0m\u001b[0msoftmax\u001b[0m\u001b[0;34m(\u001b[0m\u001b[0mlogits\u001b[0m\u001b[0;34m,\u001b[0m \u001b[0mdim\u001b[0m\u001b[0;34m=\u001b[0m\u001b[0;36m1\u001b[0m\u001b[0;34m)\u001b[0m\u001b[0;34m\u001b[0m\u001b[0;34m\u001b[0m\u001b[0m\n\u001b[1;32m     70\u001b[0m         \u001b[0maction\u001b[0m \u001b[0;34m=\u001b[0m \u001b[0mtorch\u001b[0m\u001b[0;34m.\u001b[0m\u001b[0margmax\u001b[0m\u001b[0;34m(\u001b[0m\u001b[0mpolicy\u001b[0m\u001b[0;34m)\u001b[0m\u001b[0;34m.\u001b[0m\u001b[0mitem\u001b[0m\u001b[0;34m(\u001b[0m\u001b[0;34m)\u001b[0m\u001b[0;34m\u001b[0m\u001b[0;34m\u001b[0m\u001b[0m\n",
      "\u001b[0;32m~/anaconda3/envs/pytorch/lib/python3.7/site-packages/torch/nn/modules/module.py\u001b[0m in \u001b[0;36m__call__\u001b[0;34m(self, *input, **kwargs)\u001b[0m\n\u001b[1;32m    491\u001b[0m             \u001b[0mresult\u001b[0m \u001b[0;34m=\u001b[0m \u001b[0mself\u001b[0m\u001b[0;34m.\u001b[0m\u001b[0m_slow_forward\u001b[0m\u001b[0;34m(\u001b[0m\u001b[0;34m*\u001b[0m\u001b[0minput\u001b[0m\u001b[0;34m,\u001b[0m \u001b[0;34m**\u001b[0m\u001b[0mkwargs\u001b[0m\u001b[0;34m)\u001b[0m\u001b[0;34m\u001b[0m\u001b[0;34m\u001b[0m\u001b[0m\n\u001b[1;32m    492\u001b[0m         \u001b[0;32melse\u001b[0m\u001b[0;34m:\u001b[0m\u001b[0;34m\u001b[0m\u001b[0;34m\u001b[0m\u001b[0m\n\u001b[0;32m--> 493\u001b[0;31m             \u001b[0mresult\u001b[0m \u001b[0;34m=\u001b[0m \u001b[0mself\u001b[0m\u001b[0;34m.\u001b[0m\u001b[0mforward\u001b[0m\u001b[0;34m(\u001b[0m\u001b[0;34m*\u001b[0m\u001b[0minput\u001b[0m\u001b[0;34m,\u001b[0m \u001b[0;34m**\u001b[0m\u001b[0mkwargs\u001b[0m\u001b[0;34m)\u001b[0m\u001b[0;34m\u001b[0m\u001b[0;34m\u001b[0m\u001b[0m\n\u001b[0m\u001b[1;32m    494\u001b[0m         \u001b[0;32mfor\u001b[0m \u001b[0mhook\u001b[0m \u001b[0;32min\u001b[0m \u001b[0mself\u001b[0m\u001b[0;34m.\u001b[0m\u001b[0m_forward_hooks\u001b[0m\u001b[0;34m.\u001b[0m\u001b[0mvalues\u001b[0m\u001b[0;34m(\u001b[0m\u001b[0;34m)\u001b[0m\u001b[0;34m:\u001b[0m\u001b[0;34m\u001b[0m\u001b[0;34m\u001b[0m\u001b[0m\n\u001b[1;32m    495\u001b[0m             \u001b[0mhook_result\u001b[0m \u001b[0;34m=\u001b[0m \u001b[0mhook\u001b[0m\u001b[0;34m(\u001b[0m\u001b[0mself\u001b[0m\u001b[0;34m,\u001b[0m \u001b[0minput\u001b[0m\u001b[0;34m,\u001b[0m \u001b[0mresult\u001b[0m\u001b[0;34m)\u001b[0m\u001b[0;34m\u001b[0m\u001b[0;34m\u001b[0m\u001b[0m\n",
      "\u001b[0;32m~/TP-Final-Procesos-Markovianos-para-el-Aprendizaje-Automatico-2019-1C/gym_pacman/src/model.py\u001b[0m in \u001b[0;36mforward\u001b[0;34m(self, x, hx, cx)\u001b[0m\n\u001b[1;32m     94\u001b[0m         \u001b[0;31m#hx, cx = self.lstm(x.view(x.size(0), -1), (hx, cx))\u001b[0m\u001b[0;34m\u001b[0m\u001b[0;34m\u001b[0m\u001b[0;34m\u001b[0m\u001b[0m\n\u001b[1;32m     95\u001b[0m         \u001b[0;31m# to flatten all filters: x.view(x.size(0), -1)\u001b[0m\u001b[0;34m\u001b[0m\u001b[0;34m\u001b[0m\u001b[0;34m\u001b[0m\u001b[0m\n\u001b[0;32m---> 96\u001b[0;31m         \u001b[0mx\u001b[0m \u001b[0;34m=\u001b[0m \u001b[0mF\u001b[0m\u001b[0;34m.\u001b[0m\u001b[0mrelu\u001b[0m\u001b[0;34m(\u001b[0m\u001b[0mself\u001b[0m\u001b[0;34m.\u001b[0m\u001b[0mlinear\u001b[0m\u001b[0;34m(\u001b[0m\u001b[0mx\u001b[0m\u001b[0;34m.\u001b[0m\u001b[0mview\u001b[0m\u001b[0;34m(\u001b[0m\u001b[0mx\u001b[0m\u001b[0;34m.\u001b[0m\u001b[0msize\u001b[0m\u001b[0;34m(\u001b[0m\u001b[0;36m0\u001b[0m\u001b[0;34m)\u001b[0m\u001b[0;34m,\u001b[0m \u001b[0;34m-\u001b[0m\u001b[0;36m1\u001b[0m\u001b[0;34m)\u001b[0m\u001b[0;34m)\u001b[0m\u001b[0;34m)\u001b[0m\u001b[0;34m\u001b[0m\u001b[0;34m\u001b[0m\u001b[0m\n\u001b[0m\u001b[1;32m     97\u001b[0m         \u001b[0;31m# Softmax is applied later, same with log-softmax\u001b[0m\u001b[0;34m\u001b[0m\u001b[0;34m\u001b[0m\u001b[0;34m\u001b[0m\u001b[0m\n\u001b[1;32m     98\u001b[0m         \u001b[0mactor\u001b[0m  \u001b[0;34m=\u001b[0m \u001b[0mself\u001b[0m\u001b[0;34m.\u001b[0m\u001b[0mactor_drop\u001b[0m\u001b[0;34m(\u001b[0m\u001b[0mself\u001b[0m\u001b[0;34m.\u001b[0m\u001b[0mactor_linear\u001b[0m\u001b[0;34m(\u001b[0m\u001b[0mx\u001b[0m\u001b[0;34m)\u001b[0m\u001b[0;34m)\u001b[0m\u001b[0;34m\u001b[0m\u001b[0;34m\u001b[0m\u001b[0m\n",
      "\u001b[0;31mKeyboardInterrupt\u001b[0m: "
     ]
    }
   ],
   "source": [
    "# Reset kernel to go to default directory\n",
    "import os\n",
    "os.chdir('/home/jack/TP-Final-Procesos-Markovianos-para-el-Aprendizaje-Automatico-2019-1C/gym_pacman')\n",
    "#os.chdir('./gym_pacman')\n",
    "\n",
    "from test_agent import test\n",
    "from argparse import Namespace\n",
    "args = Namespace(layout='cs188x',\n",
    "                 saved_path='trained_models',\n",
    "                 num_games_to_play=10)\n",
    "test(args)"
   ]
  },
  {
   "cell_type": "code",
   "execution_count": null,
   "metadata": {
    "ExecuteTime": {
     "start_time": "2019-09-14T21:44:25.780Z"
    }
   },
   "outputs": [
    {
     "name": "stdout",
     "output_type": "stream",
     "text": [
      "Agent progress details are displayed on this jupyter notebook TERMINAL (not here)\n",
      "\n",
      "Getting number of NN inputs/outputs for layout cs188x\n",
      "Loading previous weights for cs188x... Done.\n"
     ]
    }
   ],
   "source": [
    "import os\n",
    "os.chdir('/home/jack/TP-Final-Procesos-Markovianos-para-el-Aprendizaje-Automatico-2019-1C/gym_pacman')\n",
    "#os.chdir('./gym_pacman')\n",
    "from train import train\n",
    "from argparse import Namespace\n",
    "args = Namespace(beta =0.003,\n",
    "                 gamma=0.9,\n",
    "                 tau=1.0,\n",
    "                 lr=3e-4,\n",
    "                 layout='cs188x',\n",
    "                 load_previous_weights=True,\n",
    "                 num_processes=8,                # numero de procesos asincronicos\n",
    "                 num_processes_to_render=1,     # numero de procesos a visualizar\n",
    "                 use_gpu=False,\n",
    "                 max_actions=200,\n",
    "                 num_global_steps=5e9,\n",
    "                 num_local_steps=100,     # async updates every\n",
    "                 save_interval=25,\n",
    "                 saved_path='trained_models',\n",
    "                 log_path='tensorboard',\n",
    "                 record=False)\n",
    "print(\"Agent progress details are displayed on this jupyter notebook TERMINAL (not here)\\n\")\n",
    "train(args)"
   ]
  },
  {
   "cell_type": "markdown",
   "metadata": {},
   "source": [
    "---"
   ]
  },
  {
   "cell_type": "markdown",
   "metadata": {},
   "source": [
    "# Conclusión\n",
    "\n",
    "Esta segunda parte del trabajo permitió familiarizarme con varios conceptos que a su vez sirvieron de guía a la hora de corregir y explorar soluciones.\n",
    "\n",
    "* El poder computacional sigue siendo un limitante, sobre todo para los cambios en el algoritmo que requieren modificaciones a los hiperparámetros.\n",
    "\n",
    "\n",
    "* Encontrar soluciones a juegos de Atari es *cool*, pero problemas o juegos más simples formulados con objetivos específicos pueden dar respuestas mucho más velozmente y en la dirección correcta.\n",
    "\n",
    "  Un ejemplo de esto es [*bsuite*](https://github.com/deepmind/bsuite) va en ese camino, como varios otros que aparecen a causa de la demanda actual del área de RL, que buscan estándares sobre los cuales calificar distintos algoritmos.\n",
    "  \n",
    "  \n",
    "* Juegos diferentes pueden ser resueltos con el mismo algoritmo, pero ambos deberán ser entrenados desde cero (no hay transferencia de conocimiento en \"acciones\" generales/básicas).\n",
    "\n",
    "\n",
    "* Implementar estos algoritmos demanda mucho trabajo de calibración para hacer coincidir las partes. \n",
    "\n",
    "  Teniendo formas estándares de evaluar algoritmos, y algoritmos optimizados de cada tipo, sería una buena estrategia partir de éstos últimos para adaptarlos a nuestras necesidades con modicaciones o nuevos algoritmos, siendo eficientes en el manejo del tiempo."
   ]
  },
  {
   "cell_type": "markdown",
   "metadata": {},
   "source": [
    "![final-fantasy.gif](./img/final-fantasy.gif)"
   ]
  },
  {
   "cell_type": "code",
   "execution_count": null,
   "metadata": {},
   "outputs": [],
   "source": []
  }
 ],
 "metadata": {
  "kernelspec": {
   "display_name": "Python 3",
   "language": "python",
   "name": "python3"
  },
  "language_info": {
   "codemirror_mode": {
    "name": "ipython",
    "version": 3
   },
   "file_extension": ".py",
   "mimetype": "text/x-python",
   "name": "python",
   "nbconvert_exporter": "python",
   "pygments_lexer": "ipython3",
   "version": "3.7.3"
  },
  "toc": {
   "base_numbering": 1,
   "nav_menu": {},
   "number_sections": true,
   "sideBar": true,
   "skip_h1_title": false,
   "title_cell": "Table of Contents",
   "title_sidebar": "Contents",
   "toc_cell": true,
   "toc_position": {
    "height": "calc(100% - 180px)",
    "left": "10px",
    "top": "150px",
    "width": "181.038px"
   },
   "toc_section_display": true,
   "toc_window_display": false
  }
 },
 "nbformat": 4,
 "nbformat_minor": 2
}
