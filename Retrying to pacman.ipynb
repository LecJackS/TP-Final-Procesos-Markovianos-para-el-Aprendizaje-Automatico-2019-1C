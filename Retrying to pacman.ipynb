{
 "cells": [
  {
   "cell_type": "code",
   "execution_count": 1,
   "metadata": {
    "ExecuteTime": {
     "end_time": "2019-07-20T05:49:49.937546Z",
     "start_time": "2019-07-20T05:49:49.932524Z"
    },
    "code_folding": [
     0
    ],
    "run_control": {
     "marked": true
    },
    "scrolled": false
   },
   "outputs": [
    {
     "name": "stdout",
     "output_type": "stream",
     "text": [
      "Original directory:\n",
      " /home/jack/TP-Final-Procesos-Markovianos-para-el-Aprendizaje-Automatico-2019-1C\n",
      "Moved to:\n",
      " /home/jack/TP-Final-Procesos-Markovianos-para-el-Aprendizaje-Automatico-2019-1C/gym_pacman\n"
     ]
    }
   ],
   "source": [
    "# Change dir to run python files in subdirectory ./gym_pacman\n",
    "import os\n",
    "#os.chdir('../')\n",
    "ORIGINAL_DIR = os.getcwd()\n",
    "try:\n",
    "    gym_pacman_dir = './gym_pacman'\n",
    "    os.chdir(gym_pacman_dir)\n",
    "    print(\"Original directory:\\n\", ORIGINAL_DIR)\n",
    "    print(\"Moved to:\\n\", os.getcwd())\n",
    "except:\n",
    "    print(\"Couldn't change to ./gym_pacman folder. Are you already there?\")\n",
    "    print(\"Current directory:\", os.getcwd())\n",
    "    \n",
    "# Or use directly\n",
    "#os.chdir('/home/user/TP-Final-Procesos-Markovianos-para-el-Aprendizaje-Automatico-2019-1C/gym_pacman')"
   ]
  },
  {
   "cell_type": "code",
   "execution_count": null,
   "metadata": {
    "ExecuteTime": {
     "start_time": "2019-07-21T02:17:31.468Z"
    },
    "code_folding": [
     5
    ]
   },
   "outputs": [],
   "source": [
    "import os\n",
    "os.chdir('/home/jack/TP-Final-Procesos-Markovianos-para-el-Aprendizaje-Automatico-2019-1C/gym_pacman')\n",
    "\n",
    "from train import train\n",
    "from argparse import Namespace\n",
    "args = Namespace(beta =0.01,\n",
    "                 gamma=0.99,\n",
    "                 tau=1.0,\n",
    "                 lr=1e-5,\n",
    "                 layout='atari2',\n",
    "                 load_previous_weights=True,\n",
    "                 num_processes=4,              # numero de procesos asincronicos\n",
    "                 num_processes_to_render=-1,     # numero de procesos a visualizar\n",
    "                 use_gpu=False,\n",
    "                 max_actions=200,\n",
    "                 num_global_steps=5e9,\n",
    "                 num_local_steps=50,     # async updates every\n",
    "                 save_interval=25,\n",
    "                 saved_path='trained_models',\n",
    "                 log_path='tensorboard')\n",
    "print(\"Agent progress details are displayed on this jupyter notebook TERMINAL (not here)\\n\")\n",
    "train(args)"
   ]
  },
  {
   "cell_type": "markdown",
   "metadata": {},
   "source": [
    "Cambie a rms prop para descartar problemas de optimizacion\n",
    "\n",
    "DQN skip fram con max entre 2 y 1 que se skipea"
   ]
  },
  {
   "cell_type": "code",
   "execution_count": null,
   "metadata": {
    "ExecuteTime": {
     "start_time": "2019-07-21T02:19:40.378Z"
    }
   },
   "outputs": [
    {
     "name": "stdout",
     "output_type": "stream",
     "text": [
      "Agent progress details are displayed on this jupyter notebook TERMINAL (not here)\n",
      "\n",
      "Getting number of NN inputs/outputs for atari2\n",
      "Loading previous weights for atari2... Done.\n"
     ]
    }
   ],
   "source": [
    "import os\n",
    "os.chdir('/home/jack/TP-Final-Procesos-Markovianos-para-el-Aprendizaje-Automatico-2019-1C/gym_pacman')\n",
    "\n",
    "from train import train\n",
    "from argparse import Namespace\n",
    "args = Namespace(beta =0.01,\n",
    "                 gamma=0.9,\n",
    "                 tau=1.0,\n",
    "                 lr=1e-5,\n",
    "                 layout='atari2',\n",
    "                 load_previous_weights=True,\n",
    "                 num_processes=4,              # numero de procesos asincronicos\n",
    "                 num_processes_to_render=-1,     # numero de procesos a visualizar\n",
    "                 use_gpu=False,\n",
    "                 max_actions=200,\n",
    "                 num_global_steps=5e9,\n",
    "                 num_local_steps=50,     # async updates every\n",
    "                 save_interval=25,\n",
    "                 saved_path='trained_models',\n",
    "                 log_path='tensorboard')\n",
    "print(\"Agent progress details are displayed on this jupyter notebook TERMINAL (not here)\\n\")\n",
    "train(args)"
   ]
  },
  {
   "cell_type": "code",
   "execution_count": null,
   "metadata": {},
   "outputs": [],
   "source": []
  }
 ],
 "metadata": {
  "kernelspec": {
   "display_name": "Python 3",
   "language": "python",
   "name": "python3"
  },
  "language_info": {
   "codemirror_mode": {
    "name": "ipython",
    "version": 3
   },
   "file_extension": ".py",
   "mimetype": "text/x-python",
   "name": "python",
   "nbconvert_exporter": "python",
   "pygments_lexer": "ipython3",
   "version": "3.7.3"
  },
  "toc": {
   "base_numbering": 1,
   "nav_menu": {},
   "number_sections": true,
   "sideBar": true,
   "skip_h1_title": false,
   "title_cell": "Table of Contents",
   "title_sidebar": "Contents",
   "toc_cell": false,
   "toc_position": {},
   "toc_section_display": true,
   "toc_window_display": false
  }
 },
 "nbformat": 4,
 "nbformat_minor": 2
}
